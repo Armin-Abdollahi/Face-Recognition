{
 "cells": [
  {
   "cell_type": "code",
   "execution_count": 1,
   "id": "39cbce87",
   "metadata": {},
   "outputs": [],
   "source": [
    "# Import required libraries\n",
    "import cv2\n",
    "import face_recognition"
   ]
  },
  {
   "cell_type": "code",
   "execution_count": null,
   "id": "c4c92258",
   "metadata": {},
   "outputs": [],
   "source": [
    "webcam_video_stream = cv2.VideoCapture(0)\n",
    "\n",
    "all_face_locations = []\n",
    "\n",
    "while True:\n",
    "    ret , current_frame = webcam_video_stream.read()\n",
    "    current_frame_small = cv2.resize(current_frame , (0,0) , fx = 0.25 , fy = 0.25)\n",
    "    all_face_locations = face_recognition.face_locations(current_frame_small , number_of_times_to_upsample = 2 , model = 'hog')\n",
    "    \n",
    "    for"
   ]
  }
 ],
 "metadata": {
  "kernelspec": {
   "display_name": "Python 3 (ipykernel)",
   "language": "python",
   "name": "python3"
  },
  "language_info": {
   "codemirror_mode": {
    "name": "ipython",
    "version": 3
   },
   "file_extension": ".py",
   "mimetype": "text/x-python",
   "name": "python",
   "nbconvert_exporter": "python",
   "pygments_lexer": "ipython3",
   "version": "3.10.9"
  }
 },
 "nbformat": 4,
 "nbformat_minor": 5
}
