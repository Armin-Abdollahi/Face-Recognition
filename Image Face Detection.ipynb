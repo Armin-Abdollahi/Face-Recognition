{
 "cells": [
  {
   "cell_type": "code",
   "execution_count": 1,
   "id": "0911f0d8",
   "metadata": {},
   "outputs": [],
   "source": [
    "import cv2\n",
    "import face_recognition"
   ]
  },
  {
   "cell_type": "code",
   "execution_count": 2,
   "id": "afd22ea7",
   "metadata": {},
   "outputs": [
    {
     "name": "stdout",
     "output_type": "stream",
     "text": [
      "There is 6 Number Of Faces in This Picture.\n"
     ]
    }
   ],
   "source": [
    "image_to_detect = cv2.imread('Group.jpg')\n",
    "\n",
    "all_faces = face_recognition.face_locations(image_to_detect , model = 'hog')\n",
    "print('There is {} Number Of Faces in This Picture.'.format(len(all_faces)))"
   ]
  },
  {
   "cell_type": "code",
   "execution_count": 3,
   "id": "b8ef74a6",
   "metadata": {},
   "outputs": [
    {
     "data": {
      "text/plain": [
       "[(64, 820, 219, 666),\n",
       " (354, 927, 483, 798),\n",
       " (383, 712, 512, 583),\n",
       " (67, 540, 196, 411),\n",
       " (219, 253, 374, 98),\n",
       " (288, 511, 442, 356)]"
      ]
     },
     "execution_count": 3,
     "metadata": {},
     "output_type": "execute_result"
    }
   ],
   "source": [
    "all_faces"
   ]
  }
 ],
 "metadata": {
  "kernelspec": {
   "display_name": "Python 3 (ipykernel)",
   "language": "python",
   "name": "python3"
  },
  "language_info": {
   "codemirror_mode": {
    "name": "ipython",
    "version": 3
   },
   "file_extension": ".py",
   "mimetype": "text/x-python",
   "name": "python",
   "nbconvert_exporter": "python",
   "pygments_lexer": "ipython3",
   "version": "3.10.9"
  }
 },
 "nbformat": 4,
 "nbformat_minor": 5
}
