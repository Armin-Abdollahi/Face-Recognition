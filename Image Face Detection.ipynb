{
 "cells": [
  {
   "cell_type": "code",
   "execution_count": 1,
   "id": "0911f0d8",
   "metadata": {},
   "outputs": [],
   "source": [
    "import cv2\n",
    "import face_recognition"
   ]
  },
  {
   "cell_type": "code",
   "execution_count": 2,
   "id": "afd22ea7",
   "metadata": {},
   "outputs": [
    {
     "name": "stdout",
     "output_type": "stream",
     "text": [
      "There is 6 Number Of Faces in This Picture.\n"
     ]
    }
   ],
   "source": [
    "image_to_detect = cv2.imread('Group.jpg')\n",
    "\n",
    "all_faces = face_recognition.face_locations(image_to_detect , model = 'hog')\n",
    "print('There is {} Number Of Faces in This Picture.'.format(len(all_faces)))"
   ]
  },
  {
   "cell_type": "code",
   "execution_count": 3,
   "id": "b8ef74a6",
   "metadata": {},
   "outputs": [
    {
     "data": {
      "text/plain": [
       "[(64, 820, 219, 666),\n",
       " (354, 927, 483, 798),\n",
       " (383, 712, 512, 583),\n",
       " (67, 540, 196, 411),\n",
       " (219, 253, 374, 98),\n",
       " (288, 511, 442, 356)]"
      ]
     },
     "execution_count": 3,
     "metadata": {},
     "output_type": "execute_result"
    }
   ],
   "source": [
    "all_faces"
   ]
  },
  {
   "cell_type": "code",
   "execution_count": 4,
   "id": "ab711418",
   "metadata": {},
   "outputs": [
    {
     "name": "stdout",
     "output_type": "stream",
     "text": [
      "[(1, (64, 820, 219, 666)), (2, (354, 927, 483, 798)), (3, (383, 712, 512, 583)), (4, (67, 540, 196, 411)), (5, (219, 253, 374, 98)), (6, (288, 511, 442, 356))]\n"
     ]
    }
   ],
   "source": [
    "print(list(enumerate(all_faces , 1)))"
   ]
  },
  {
   "cell_type": "code",
   "execution_count": 5,
   "id": "7854eb94",
   "metadata": {},
   "outputs": [
    {
     "name": "stdout",
     "output_type": "stream",
     "text": [
      "Found Face Number 1 at Top: 64 , Right: 820 , Bottom: 219 , Left: 666\n",
      "Found Face Number 2 at Top: 354 , Right: 927 , Bottom: 483 , Left: 798\n",
      "Found Face Number 3 at Top: 383 , Right: 712 , Bottom: 512 , Left: 583\n",
      "Found Face Number 4 at Top: 67 , Right: 540 , Bottom: 196 , Left: 411\n",
      "Found Face Number 5 at Top: 219 , Right: 253 , Bottom: 374 , Left: 98\n",
      "Found Face Number 6 at Top: 288 , Right: 511 , Bottom: 442 , Left: 356\n"
     ]
    }
   ],
   "source": [
    "for index, current_location in enumerate(all_faces , 1):\n",
    "    top,right,bottom,left = current_location\n",
    "    print('Found Face Number {} at Top: {} , Right: {} , Bottom: {} , Left: {}'.format(index , top , right , bottom , left))\n",
    "    current_face = image_to_detect[top:bottom , left:right]\n",
    "    cv2.imshow('Face'+str(index) , current_face)\n",
    "    cv2.waitKey(0)\n",
    "    cv2.destroyAllWindows()"
   ]
  }
 ],
 "metadata": {
  "kernelspec": {
   "display_name": "Python 3 (ipykernel)",
   "language": "python",
   "name": "python3"
  },
  "language_info": {
   "codemirror_mode": {
    "name": "ipython",
    "version": 3
   },
   "file_extension": ".py",
   "mimetype": "text/x-python",
   "name": "python",
   "nbconvert_exporter": "python",
   "pygments_lexer": "ipython3",
   "version": "3.10.9"
  }
 },
 "nbformat": 4,
 "nbformat_minor": 5
}
