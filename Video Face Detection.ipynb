{
 "cells": [
  {
   "cell_type": "code",
   "execution_count": 1,
   "id": "0ffb1d89",
   "metadata": {},
   "outputs": [],
   "source": [
    "# Import required libraries\n",
    "import cv2\n",
    "import face_recognition"
   ]
  },
  {
   "cell_type": "code",
   "execution_count": 4,
   "id": "cb6ace3c",
   "metadata": {},
   "outputs": [
    {
     "ename": "NameError",
     "evalue": "name 'President_Obama' is not defined",
     "output_type": "error",
     "traceback": [
      "\u001b[1;31m---------------------------------------------------------------------------\u001b[0m",
      "\u001b[1;31mNameError\u001b[0m                                 Traceback (most recent call last)",
      "Cell \u001b[1;32mIn[4], line 1\u001b[0m\n\u001b[1;32m----> 1\u001b[0m file_video_stream \u001b[38;5;241m=\u001b[39m cv2\u001b[38;5;241m.\u001b[39mVideoCapture(\u001b[43mPresident_Obama\u001b[49m\u001b[38;5;241m.\u001b[39mmp4)\n\u001b[0;32m      3\u001b[0m all_face_locations \u001b[38;5;241m=\u001b[39m []\n\u001b[0;32m      5\u001b[0m \u001b[38;5;28;01mwhile\u001b[39;00m \u001b[38;5;28;01mTrue\u001b[39;00m:\n",
      "\u001b[1;31mNameError\u001b[0m: name 'President_Obama' is not defined"
     ]
    }
   ],
   "source": [
    "file_video_stream = cv2.VideoCapture(President_Obama.mp4)\n",
    "\n",
    "all_face_locations = []\n",
    "\n",
    "while True:\n",
    "    ret , current_frame = file_video_stream.read()\n",
    "    current_frame_small = cv2.resize(current_frame , (0,0) , fx = 0.25 , fy = 0.25)\n",
    "    all_face_locations = face_recognition.face_locations(current_frame_small , number_of_times_to_upsample = 2 , model = 'hog')\n",
    "    \n",
    "    for index , current_location in enumerate(all_face_locations):\n",
    "        top , right , bottom , left = current_location\n",
    "        top = top*4\n",
    "        right = right*4\n",
    "        bottom = bottom*4\n",
    "        left = left*4\n",
    "        \n",
    "        print('Found Face {} At Top: {} , Right: {} , Bottom: {} , Left: {}'.format(index+1 , top , right , bottom , left))\n",
    "        cv2.rectangle(current_frame , (left , top) , (right , bottom) , (0,0,255) , 2)\n",
    "        \n",
    "    cv2.imshow('Webcam' , current_frame)\n",
    "    if cv2.waitKey(1) & 0xFF == ord('q'):\n",
    "        break\n",
    "        \n",
    "file_video_stream.release()\n",
    "cv2.destroyAllWindows()"
   ]
  },
  {
   "cell_type": "code",
   "execution_count": null,
   "id": "0108db98",
   "metadata": {},
   "outputs": [],
   "source": []
  }
 ],
 "metadata": {
  "kernelspec": {
   "display_name": "Python 3 (ipykernel)",
   "language": "python",
   "name": "python3"
  },
  "language_info": {
   "codemirror_mode": {
    "name": "ipython",
    "version": 3
   },
   "file_extension": ".py",
   "mimetype": "text/x-python",
   "name": "python",
   "nbconvert_exporter": "python",
   "pygments_lexer": "ipython3",
   "version": "3.10.9"
  }
 },
 "nbformat": 4,
 "nbformat_minor": 5
}
